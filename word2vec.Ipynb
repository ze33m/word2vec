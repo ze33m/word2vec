{
 "cells": [
  {
   "cell_type": "code",
   "execution_count": null,
   "id": "64fd3779",
   "metadata": {},
   "outputs": [],
   "source": [
    "from datasets import load_dataset\n",
    "import re\n",
    "import nltk\n",
    "from nltk.tokenize import word_tokenize\n",
    "from nltk.corpus import stopwords\n",
    "from nltk.stem.snowball import SnowballStemmer\n",
    "import spacy\n",
    "from tqdm import tqdm\n",
    "from nltk.stem.snowball import SnowballStemmer\n",
    "stemmer = SnowballStemmer(\"russian\")"
   ]
  },
  {
   "cell_type": "code",
   "execution_count": 2,
   "id": "fb125753",
   "metadata": {},
   "outputs": [],
   "source": [
    "nlp = spacy.load('ru_core_news_sm')"
   ]
  },
  {
   "cell_type": "code",
   "execution_count": 3,
   "id": "e3524452",
   "metadata": {},
   "outputs": [
    {
     "data": {
      "application/vnd.jupyter.widget-view+json": {
       "model_id": "c5540a71228e4c9384686db40c7fc85f",
       "version_major": 2,
       "version_minor": 0
      },
      "text/plain": [
       "Resolving data files:   0%|          | 0/117 [00:00<?, ?it/s]"
      ]
     },
     "metadata": {},
     "output_type": "display_data"
    },
    {
     "data": {
      "application/vnd.jupyter.widget-view+json": {
       "model_id": "ce6e425b153040fba8cb63411679c0dd",
       "version_major": 2,
       "version_minor": 0
      },
      "text/plain": [
       "Resolving data files:   0%|          | 0/117 [00:00<?, ?it/s]"
      ]
     },
     "metadata": {},
     "output_type": "display_data"
    },
    {
     "data": {
      "application/vnd.jupyter.widget-view+json": {
       "model_id": "70e22213609e4289b8c3020a44517fc3",
       "version_major": 2,
       "version_minor": 0
      },
      "text/plain": [
       "Loading dataset shards:   0%|          | 0/116 [00:00<?, ?it/s]"
      ]
     },
     "metadata": {},
     "output_type": "display_data"
    },
    {
     "data": {
      "text/plain": [
       "Dataset({\n",
       "    features: ['text', 'source'],\n",
       "    num_rows: 11373074\n",
       "})"
      ]
     },
     "execution_count": 3,
     "metadata": {},
     "output_type": "execute_result"
    }
   ],
   "source": [
    "dataset = load_dataset('0x7o/taiga', split='train')\n",
    "dataset"
   ]
  },
  {
   "cell_type": "code",
   "execution_count": 4,
   "id": "0493ef5a",
   "metadata": {},
   "outputs": [],
   "source": [
    "dataset = dataset[:10000]['text']"
   ]
  },
  {
   "cell_type": "code",
   "execution_count": null,
   "id": "e3c05838",
   "metadata": {},
   "outputs": [],
   "source": [
    "dataset\n"
   ]
  },
  {
   "cell_type": "code",
   "execution_count": 7,
   "id": "e54d1a7b",
   "metadata": {},
   "outputs": [],
   "source": [
    "stop_words = set(stopwords.words('russian'))\n",
    "stemmer = SnowballStemmer(\"russian\")"
   ]
  },
  {
   "cell_type": "code",
   "execution_count": null,
   "id": "c3cdfca1",
   "metadata": {},
   "outputs": [],
   "source": [
    "def preprocessing(raw_text:str):\n",
    "    raw_text = raw_text.lower()\n",
    "    raw_text = re.sub(r'[^\\w\\s]|\\d', '', raw_text) \n",
    "    raw_text = raw_text.replace('\\n', ' ')\n",
    "    raw_text = re.sub(r'[\\s]+', ' ', raw_text)\n",
    "    tokens = [stemmer.stem(i) for i in raw_text.split() if i not in stop_words]\n",
    "    return tokens\n"
   ]
  },
  {
   "cell_type": "code",
   "execution_count": 10,
   "id": "0ceb0ea3",
   "metadata": {},
   "outputs": [
    {
     "name": "stderr",
     "output_type": "stream",
     "text": [
      "  0%|          | 0/10000 [00:00<?, ?it/s]"
     ]
    },
    {
     "name": "stderr",
     "output_type": "stream",
     "text": [
      "100%|██████████| 10000/10000 [01:09<00:00, 144.92it/s]\n"
     ]
    }
   ],
   "source": [
    "corpus = []\n",
    "for i in tqdm(range(len(dataset))):\n",
    "    s = dataset[i]\n",
    "    corpus.append(preprocessing(s))"
   ]
  },
  {
   "cell_type": "code",
   "execution_count": 12,
   "id": "15bbe4b9",
   "metadata": {},
   "outputs": [
    {
     "data": {
      "text/plain": [
       "['соста',\n",
       " 'врем',\n",
       " 'вне',\n",
       " 'всяк',\n",
       " 'сомнен',\n",
       " 'везет',\n",
       " 'пункт',\n",
       " 'десятк',\n",
       " 'лет',\n",
       " 'взглян',\n",
       " 'назад',\n",
       " 'мгновен',\n",
       " 'помогут',\n",
       " 'брат',\n",
       " 'доллар',\n",
       " 'фунт']"
      ]
     },
     "execution_count": 12,
     "metadata": {},
     "output_type": "execute_result"
    }
   ],
   "source": [
    "corpus[12]"
   ]
  }
 ],
 "metadata": {
  "kernelspec": {
   "display_name": ".venv",
   "language": "python",
   "name": "python3"
  },
  "language_info": {
   "codemirror_mode": {
    "name": "ipython",
    "version": 3
   },
   "file_extension": ".py",
   "mimetype": "text/x-python",
   "name": "python",
   "nbconvert_exporter": "python",
   "pygments_lexer": "ipython3",
   "version": "3.13.3"
  }
 },
 "nbformat": 4,
 "nbformat_minor": 5
}
